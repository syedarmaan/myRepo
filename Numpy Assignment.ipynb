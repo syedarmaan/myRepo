{
 "cells": [
  {
   "cell_type": "markdown",
   "metadata": {},
   "source": [
    "# Numpy Assignment"
   ]
  },
  {
   "cell_type": "raw",
   "metadata": {},
   "source": [
    "(1)\n",
    "Function:\tEigenvalues and Eigenvectors of an array\n",
    "Description :\tEigenvalues and Eigenvectors of an array/matrix\n",
    "Syntax:\tnp.linalg.eig(m)\n",
    "Return:\tReturn an array of eigenvalues and eigenvectors"
   ]
  },
  {
   "cell_type": "code",
   "execution_count": 32,
   "metadata": {},
   "outputs": [
    {
     "name": "stdout",
     "output_type": "stream",
     "text": [
      "Printing the Original square array:\n",
      " [[1 2]\n",
      " [2 3]]\n",
      "Printing the Eigen values of the given square array:\n",
      " [-0.23606798  4.23606798]\n",
      "Printing Right eigenvectors of the given square array:\n",
      " [[-0.85065081 -0.52573111]\n",
      " [ 0.52573111 -0.85065081]]\n"
     ]
    }
   ],
   "source": [
    "import numpy as np \n",
    "m = np.array([[1, 2], [2, 3]])  \n",
    "print(\"Printing the Original square array:\\n\", m) \n",
    "w, v = np.linalg.eig(m) \n",
    "print(\"Printing the Eigen values of the given square array:\\n\", w) \n",
    "print(\"Printing Right eigenvectors of the given square array:\\n\", v)"
   ]
  },
  {
   "cell_type": "raw",
   "metadata": {},
   "source": [
    "(2)\n",
    "Function:\tdigitize()\n",
    "Description :\tnp.digitize() method, we can get the indices of the bins to which the each value is belongs to an array by using np.digitize() method.\n",
    "Syntax:\tnp.digitize(Array, Bin, Right)\n",
    "Return:\tReturn an array of indices of the bins."
   ]
  },
  {
   "cell_type": "code",
   "execution_count": 3,
   "metadata": {},
   "outputs": [
    {
     "name": "stdout",
     "output_type": "stream",
     "text": [
      "[1 2 3 4]\n"
     ]
    }
   ],
   "source": [
    "import numpy as np  \n",
    "a = np.array([1.2, 2.4, 3.6, 4.8]) \n",
    "bins = np.array([1.0, 1.3, 2.5, 4.0, 10.0]) \n",
    "# using np.digitize() method \n",
    "syed = np.digitize(a, bins) \n",
    "print(syed)"
   ]
  },
  {
   "cell_type": "raw",
   "metadata": {},
   "source": [
    "(3)\n",
    "Function:\trepeat()\n",
    "Description :\tThe np.repeat() function repeats elements of the array – arr.\n",
    "Syntax:\tnumpy.repeat(arr, repetitions, axis = None)\n",
    "Return:\tRe An array with repetitions of array - arr elements as per repetitions, number of times we want to repeat arr"
   ]
  },
  {
   "cell_type": "code",
   "execution_count": 33,
   "metadata": {},
   "outputs": [
    {
     "name": "stdout",
     "output_type": "stream",
     "text": [
      "arr : \n",
      " [0 1 2 3 4]\n",
      "\n",
      "Repeating arr 2 times : \n",
      " [0 0 1 1 2 2 3 3 4 4]\n",
      "Shape :  (10,)\n",
      "\n",
      "Repeating arr 3 times : \n",
      " [0 0 0 1 1 1 2 2 2 3 3 3 4 4 4]\n",
      "Shape :  (15,)\n"
     ]
    }
   ],
   "source": [
    "import numpy as np\n",
    "arr = np.arange(5) \n",
    "print(\"arr : \\n\", arr) \n",
    "  \n",
    "repetitions = 2\n",
    "a = np.repeat(arr, repetitions) \n",
    "print(\"\\nRepeating arr 2 times : \\n\", a) \n",
    "print(\"Shape : \", a.shape) \n",
    "  \n",
    "repetitions = 3\n",
    "a = np.repeat(arr, repetitions) \n",
    "print(\"\\nRepeating arr 3 times : \\n\", a) \n",
    "print(\"Shape : \", a.shape) "
   ]
  },
  {
   "cell_type": "raw",
   "metadata": {},
   "source": [
    "(4)\n",
    "Function:\tsqueeze()\n",
    "Description :\tnumpy.squeeze() function is used when we want to remove single-dimensional entries from the shape of an array.\n",
    "Syntax:\tnumpy.squeeze(arr, axis=None )\n",
    "Return:\tsqueezed [ndarray] The input array, but with all or a subset of the dimensions of length 1 removed. This is always a itself or a view into arr."
   ]
  },
  {
   "cell_type": "code",
   "execution_count": 5,
   "metadata": {},
   "outputs": [
    {
     "name": "stdout",
     "output_type": "stream",
     "text": [
      "Input array :  [[[2 2 2]\n",
      "  [2 2 2]]]\n",
      "Shape of input array :  (1, 2, 3)\n",
      "output squeezed array :  [[2 2 2]\n",
      " [2 2 2]]\n",
      "Shape of output array :  (2, 3)\n"
     ]
    }
   ],
   "source": [
    "import numpy as np \n",
    "in_arr = np.array([[[2, 2, 2], [2, 2, 2]]]) \n",
    "print (\"Input array : \", in_arr)  \n",
    "print(\"Shape of input array : \", in_arr.shape)   \n",
    "out_arr = np.squeeze(in_arr)  \n",
    "print (\"output squeezed array : \", out_arr) \n",
    "print(\"Shape of output array : \", out_arr.shape)  "
   ]
  },
  {
   "cell_type": "raw",
   "metadata": {},
   "source": [
    "(5)\n",
    "Function:\tlinspace()\n",
    "Description :\tThe numpy.linspace() function returns number spaces evenly w.r.t interval. Similar to numpy.arange() function but instead of step it uses sample number.\n",
    "\n",
    "Syntax:\tnp.linspace(start, stop,num = 50, endpoint = True, retstep = False, dtype = None)\n",
    "Return:\tNdarray\n",
    "step: [float, optional], if restep = True"
   ]
  },
  {
   "cell_type": "code",
   "execution_count": 6,
   "metadata": {},
   "outputs": [
    {
     "name": "stdout",
     "output_type": "stream",
     "text": [
      "B\n",
      " (array([2.  , 2.25, 2.5 , 2.75, 3.  ]), 0.25) \n",
      "\n",
      "A\n",
      " [0.         0.22039774 0.42995636 0.6183698  0.77637192 0.8961922\n",
      " 0.9719379  0.99988386 0.9786557  0.90929743]\n"
     ]
    }
   ],
   "source": [
    "import numpy as np \n",
    "print(\"B\\n\", np.linspace(2.0, 3.0, num=5, retstep=True), \"\\n\") \n",
    "x = np.linspace(0, 2, 10) \n",
    "print(\"A\\n\", np.sin(x)) "
   ]
  },
  {
   "cell_type": "raw",
   "metadata": {},
   "source": [
    "(6)\n",
    "Function:\tclip()\n",
    "Description :\tnumpy.clip() function is used to Clip (limit) the values in an array.\n",
    "Syntax:\tnp.clip(a, a_min, a_max, out=None)\n",
    "Return:\tclipped_array"
   ]
  },
  {
   "cell_type": "code",
   "execution_count": 7,
   "metadata": {},
   "outputs": [
    {
     "name": "stdout",
     "output_type": "stream",
     "text": [
      "Input array :  [1, 2, 3, 4, 5, 6, 7, 8]\n",
      "Output array :  [2 2 3 4 5 6 6 6]\n"
     ]
    }
   ],
   "source": [
    "import numpy as np \n",
    "in_array = [1, 2, 3, 4, 5, 6, 7, 8 ] \n",
    "print (\"Input array : \", in_array) \n",
    "out_array = np.clip(in_array, a_min = 2, a_max = 6) \n",
    "print (\"Output array : \", out_array)"
   ]
  },
  {
   "cell_type": "raw",
   "metadata": {},
   "source": [
    "(7)\n",
    "Function:\textract()\n",
    "Description :\tThe numpy.extract() function returns elements of input_array if they satisfy some specified condition.\n",
    "Syntax:\tnumpy.extract(condition, array)\n",
    "Return:\tArray elements that satisfy the condition."
   ]
  },
  {
   "cell_type": "code",
   "execution_count": 34,
   "metadata": {},
   "outputs": [
    {
     "name": "stdout",
     "output_type": "stream",
     "text": [
      "Original array : \n",
      " [[0 1]\n",
      " [2 3]\n",
      " [4 5]\n",
      " [6 7]\n",
      " [8 9]]\n",
      "\n",
      "Array Condition a : \n",
      " [[False  True]\n",
      " [ True  True]\n",
      " [False  True]\n",
      " [ True  True]\n",
      " [False  True]]\n",
      "\n",
      "Elements that satisfy condition a  : \n",
      " [1 2 3 5 6 7 9]\n",
      "\n",
      "Array Condition b : \n",
      " [[False False]\n",
      " [False False]\n",
      " [False  True]\n",
      " [False False]\n",
      " [False False]]\n",
      "\n",
      "Elements that satisfy condition b  : \n",
      " [5]\n"
     ]
    }
   ],
   "source": [
    "import numpy as np \n",
    "array = np.arange(10).reshape(5, 2) \n",
    "print(\"Original array : \\n\", array) \n",
    "  \n",
    "a = np.mod(array, 4) !=0\n",
    "# This will show element status of satisfying condition \n",
    "print(\"\\nArray Condition a : \\n\", a) \n",
    "  \n",
    "# This will return elements that satisy condition \"a\" condition \n",
    "print(\"\\nElements that satisfy condition a  : \\n\", np.extract(a, array)) \n",
    "\n",
    "b = array - 4 == 1\n",
    "# This will show element status of satisfying condition \n",
    "print(\"\\nArray Condition b : \\n\", b) \n",
    "  \n",
    "# This will return elements that satisy condition \"b\" condition \n",
    "print(\"\\nElements that satisfy condition b  : \\n\", np.extract(b, array)) "
   ]
  },
  {
   "cell_type": "raw",
   "metadata": {},
   "source": [
    "(8)\n",
    "Function:\targpartition()\n",
    "Description :\tnumpy.argpartition() function is used to create a indirect partitioned copy of input array with its elements rearranged in such a way that the value of the element in k-th position is in the position it would be in a sorted array. All elements smaller than the k-th element are moved before this element and all equal or greater are moved behind it. The ordering of the elements in the two partitions is undefined.It returns an array of indices of the same shape as arr, i.e arr[index_array] yields a partition of arr.\n",
    "Syntax:\tnumpy.argpartition(arr, kth, axis=-1, kind=’introselect’, order=None)\n",
    "Return:\t[index_array, ndarray] Array of indices that partition arr along the specified axis."
   ]
  },
  {
   "cell_type": "code",
   "execution_count": 35,
   "metadata": {},
   "outputs": [
    {
     "name": "stdout",
     "output_type": "stream",
     "text": [
      "Input array : \n",
      " [[2 0 1]\n",
      " [5 4 9]]\n",
      "Output partitioned array indices :\n",
      "  [[1 2 0]\n",
      " [1 0 2]]\n"
     ]
    }
   ],
   "source": [
    "import numpy as np\n",
    "  \n",
    "# input array \n",
    "in_arr = np.array([[ 2, 0,  1], [ 5, 4, 9] ]) \n",
    "print (\"Input array : \\n\", in_arr)  \n",
    "  \n",
    "out_arr = np.argpartition(in_arr, 1, axis = 1) \n",
    "print (\"Output partitioned array indices :\\n \", out_arr) "
   ]
  },
  {
   "cell_type": "raw",
   "metadata": {},
   "source": [
    "(9)\n",
    "Function:\tsetdiff1d()\n",
    "Description :\tnumpy.setdiff1d() function find the set difference of two arrays and return the unique values in arr1 that are not in arr2.\n",
    "Syntax:\tnumpy.setdiff1d(arr1, arr2, assume_unique = False)\n",
    "Return:\t[ndarray] 1D array of values in arr1 that are not in arr2. The result is sorted when assume_unique = False, but otherwise only sorted if the input is sorted."
   ]
  },
  {
   "cell_type": "code",
   "execution_count": 36,
   "metadata": {},
   "outputs": [
    {
     "name": "stdout",
     "output_type": "stream",
     "text": [
      "[4 5 6]\n"
     ]
    }
   ],
   "source": [
    "import numpy as np  \n",
    "arr1 = [5, 6, 2, 3, 4] \n",
    "arr2 = [1, 2, 3] \n",
    "x = np.setdiff1d(arr1, arr2) \n",
    "print (x) "
   ]
  },
  {
   "cell_type": "raw",
   "metadata": {},
   "source": [
    "(10)\n",
    "Function:\titemsize\n",
    "Description :\tnumpy.ndarray.itemsize() function return the length of one array element in bytes.\n",
    "Syntax:\tnumpy.ndarray.itemsize(arr)\n",
    "Return:\t[int] The length of one array element in bytes\n"
   ]
  },
  {
   "cell_type": "code",
   "execution_count": 14,
   "metadata": {},
   "outputs": [
    {
     "name": "stdout",
     "output_type": "stream",
     "text": [
      "4\n"
     ]
    }
   ],
   "source": [
    "import numpy as np\n",
    "arr = np.array([1, 2, 3, 4], dtype = np.float64) \n",
    "y = array.itemsize\n",
    "print (y) \n"
   ]
  },
  {
   "cell_type": "raw",
   "metadata": {},
   "source": [
    "(11)\n",
    "Function:\thstack()\n",
    "Description :\tnumpy.hstack() function is used to stack the sequence of input arrays horizontally (i.e. column wise) to make a single array.\n",
    "Syntax:\tnumpy.hstack(tup)\n",
    "Return:\tReturn : [stacked ndarray] The stacked array of the input arrays."
   ]
  },
  {
   "cell_type": "code",
   "execution_count": 15,
   "metadata": {},
   "outputs": [
    {
     "name": "stdout",
     "output_type": "stream",
     "text": [
      "1st Input array : \n",
      " [1 2 3]\n",
      "2nd Input array : \n",
      " [4 5 6]\n",
      "Output horizontally stacked array:\n",
      "  [1 2 3 4 5 6]\n"
     ]
    }
   ],
   "source": [
    "import numpy as np \n",
    "  \n",
    "in_arr1 = np.array([ 1, 2, 3] ) \n",
    "print (\"1st Input array : \\n\", in_arr1)  \n",
    "  \n",
    "in_arr2 = np.array([ 4, 5, 6] ) \n",
    "print (\"2nd Input array : \\n\", in_arr2)  \n",
    "  \n",
    "out_arr = np.hstack((in_arr1, in_arr2)) \n",
    "print (\"Output horizontally stacked array:\\n \", out_arr) "
   ]
  },
  {
   "cell_type": "raw",
   "metadata": {},
   "source": [
    "(12)\n",
    "Function:\tvstack()\n",
    "Description :\tnumpy.vstack() function is used to stack the sequence of input arrays vertically to make a single array.\n",
    "Syntax:\tnumpy.vstack(tup)\n",
    "Return:\t[stacked ndarray] The stacked array of the input arrays."
   ]
  },
  {
   "cell_type": "code",
   "execution_count": 16,
   "metadata": {},
   "outputs": [
    {
     "name": "stdout",
     "output_type": "stream",
     "text": [
      "1st Input array : \n",
      " [1 2 3]\n",
      "2nd Input array : \n",
      " [4 5 6]\n",
      "Output vertically stacked array:\n",
      "  [[1 2 3]\n",
      " [4 5 6]]\n"
     ]
    }
   ],
   "source": [
    "import numpy as np \n",
    "  \n",
    "# input array \n",
    "in_arr1 = np.array([ 1, 2, 3] ) \n",
    "print (\"1st Input array : \\n\", in_arr1)  \n",
    "  \n",
    "in_arr2 = np.array([ 4, 5, 6] ) \n",
    "print (\"2nd Input array : \\n\", in_arr2)  \n",
    "  \n",
    "# Stacking the two arrays vertically \n",
    "out_arr = np.vstack((in_arr1, in_arr2)) \n",
    "print (\"Output vertically stacked array:\\n \", out_arr)"
   ]
  },
  {
   "cell_type": "raw",
   "metadata": {},
   "source": [
    "(13)\n",
    "Function:\thsplit()\n",
    "Description :\tThe ‘hsplit()’ function splits an array along axis parameter = 1. ‘numpy.hsplit’ is equivalent to ‘split’ with axis parameter = 1, the array is always splitted along the second axis regardless of the array dimension. \n",
    "Syntax:\tnumpy.hsplit(ary, indices_or_sections)\n",
    "Return:\tHorizontal splitting of array"
   ]
  },
  {
   "cell_type": "code",
   "execution_count": 22,
   "metadata": {},
   "outputs": [
    {
     "name": "stdout",
     "output_type": "stream",
     "text": [
      "The array [[0 1 2]\n",
      " [3 4 5]\n",
      " [6 7 8]] gets splitted \\ horizontally to form [array([[0],\n",
      "       [3],\n",
      "       [6]]), array([[1],\n",
      "       [4],\n",
      "       [7]]), array([[2],\n",
      "       [5],\n",
      "       [8]])] \n",
      "The array [[0 1 2]\n",
      " [3 4 5]\n",
      " [6 7 8]] gets splitted \\ horizontally to form [array([[0],\n",
      "       [3],\n",
      "       [6]]), array([[1],\n",
      "       [4],\n",
      "       [7]]), array([[2],\n",
      "       [5],\n",
      "       [8]])] \n"
     ]
    }
   ],
   "source": [
    "import numpy as np  \n",
    " \n",
    "a = np.arange(9).reshape(3, 3) \n",
    "  \n",
    "print(\"The array {} gets splitted \\ horizontally to form {} \".format(a, np.hsplit(a, 3))) \n",
    "  \n",
    "print(\"The array {} gets splitted \\ horizontally to form {} \".format(a, np.split(a, 3, 1)))\n"
   ]
  },
  {
   "cell_type": "raw",
   "metadata": {},
   "source": [
    "(14)\n",
    "Function:\tvsplit()\n",
    "Description :\t The ‘vsplit()’ function splits an array along axis parameter = 0.‘numpy.vsplit’ is equivalent to ‘split’ with axis parameter = 0. This function split an array into multiple sub-arrays vertically (row-wise)\n",
    "Syntax:\tnumpy.vsplit(ary, indices_or_sections)\n",
    "Return:\tVertical splitting of array"
   ]
  },
  {
   "cell_type": "code",
   "execution_count": 21,
   "metadata": {},
   "outputs": [
    {
     "name": "stdout",
     "output_type": "stream",
     "text": [
      "The array [[0 1 2]\n",
      " [3 4 5]\n",
      " [6 7 8]] gets splitted \\ vertically to form [array([[0, 1, 2]]), array([[3, 4, 5]]), array([[6, 7, 8]])] \n",
      "The array [[0 1 2]\n",
      " [3 4 5]\n",
      " [6 7 8]] gets splitted \\ vertically to form [array([[0, 1, 2]]), array([[3, 4, 5]]), array([[6, 7, 8]])] \n"
     ]
    }
   ],
   "source": [
    "import numpy as np \n",
    "a = np.arange(9).reshape(3, 3) \n",
    "print(\"The array {} gets splitted \\ vertically to form {} \".format(a, np.vsplit(a, 3))) \n",
    "print(\"The array {} gets splitted \\ vertically to form {} \".format(a, np.split(a, 3, 0))) "
   ]
  },
  {
   "cell_type": "raw",
   "metadata": {},
   "source": [
    "(15)\n",
    "Function:\tShallow Copy\n",
    "Description :\tA shallow copy means constructing a new collection object and then populating it with references to the child objects found in the original. The copying process does not recurse and therefore won’t create copies of the child objects themselves. In case of shallow copy, a reference of object is copied in other object. It means that any changes made to a copy of object do reflect in the original object. In python, this is implemented using “copy()” function.\n",
    "Syntax:\tcopy.copy(list) \n",
    "Return:\tcopy.copy() return a shallowcopy of list."
   ]
  },
  {
   "cell_type": "code",
   "execution_count": 24,
   "metadata": {},
   "outputs": [
    {
     "name": "stdout",
     "output_type": "stream",
     "text": [
      "[1, 2, [3, 5], 4]\n"
     ]
    }
   ],
   "source": [
    "import copy \n",
    "  \n",
    "list = [1, 2, [3,5], 4] \n",
    "  \n",
    "# using copy for shallow copy   \n",
    "List1 = copy.copy(list)  \n",
    "print(List1)"
   ]
  },
  {
   "cell_type": "raw",
   "metadata": {},
   "source": [
    "(16)\n",
    "Function:\tdeepcopy()\n",
    "Description :\tDeep copy is a process in which the copying process occurs recursively. It means first constructing a new collection object and then recursively populating it with copies of the child objects found in the original. In case of deep copy, a copy of object is copied in other object. It means that any changes made to a copy of object do not reflect in the original object. In python, this is implemented using “deepcopy()” function.\n",
    "Syntax:\tcopy.deepcopy(list)\n",
    "Return:\tdeepcopy() return a deep copy of list."
   ]
  },
  {
   "cell_type": "code",
   "execution_count": 25,
   "metadata": {},
   "outputs": [
    {
     "name": "stdout",
     "output_type": "stream",
     "text": [
      "[1, 2, [3, 5], 4]\n"
     ]
    }
   ],
   "source": [
    "import copy \n",
    "\n",
    "list = [1, 2, [3,5], 4] \n",
    "\n",
    "# using deepcopy for deepcopy   \n",
    "List1 = copy.deepcopy(list)\n",
    "print(List1)"
   ]
  },
  {
   "cell_type": "raw",
   "metadata": {},
   "source": [
    "(17)\n",
    "Function:\tcopy()\n",
    "Description :\tnumpy.ndarray.copy() returns a copy of the array.\n",
    "Syntax:\tnumpy.ndarray.copy(order=’C’)\n",
    "Return:\tCopy the array"
   ]
  },
  {
   "cell_type": "code",
   "execution_count": 26,
   "metadata": {},
   "outputs": [
    {
     "name": "stdout",
     "output_type": "stream",
     "text": [
      "x is: \n",
      " [[0 1 2 3]\n",
      " [4 5 6 7]]\n",
      "y is :\n",
      " [[0 1 2 3]\n",
      " [4 5 6 7]]\n",
      "\n",
      "x is copied to y\n"
     ]
    }
   ],
   "source": [
    "import numpy as np \n",
    " \n",
    "x = np.array([[0, 1, 2, 3], [4, 5, 6, 7]],  order ='F') \n",
    "print(\"x is: \\n\", x) \n",
    "  \n",
    "# copying x to y \n",
    "y = x.copy() \n",
    "print(\"y is :\\n\", y) \n",
    "print(\"\\nx is copied to y\")\n"
   ]
  },
  {
   "cell_type": "raw",
   "metadata": {},
   "source": [
    "(18)\n",
    "Function:\tmeshgrid()\n",
    "Description :\tThe numpy.meshgrid function is used to create a rectangular grid out of two given one-dimensional arrays representing the Cartesian indexing or Matrix indexing. Meshgrid function is somewhat inspired from MATLAB.\n",
    "Syntax:\tnp.meshgrid(x, y)\n",
    "Return:\tmeshgrid"
   ]
  },
  {
   "cell_type": "code",
   "execution_count": 28,
   "metadata": {},
   "outputs": [
    {
     "name": "stdout",
     "output_type": "stream",
     "text": [
      "x_1 = \n",
      "[[-4. -3. -2. -1.  0.  1.  2.  3.  4.]\n",
      " [-4. -3. -2. -1.  0.  1.  2.  3.  4.]\n",
      " [-4. -3. -2. -1.  0.  1.  2.  3.  4.]\n",
      " [-4. -3. -2. -1.  0.  1.  2.  3.  4.]\n",
      " [-4. -3. -2. -1.  0.  1.  2.  3.  4.]\n",
      " [-4. -3. -2. -1.  0.  1.  2.  3.  4.]\n",
      " [-4. -3. -2. -1.  0.  1.  2.  3.  4.]\n",
      " [-4. -3. -2. -1.  0.  1.  2.  3.  4.]\n",
      " [-4. -3. -2. -1.  0.  1.  2.  3.  4.]\n",
      " [-4. -3. -2. -1.  0.  1.  2.  3.  4.]\n",
      " [-4. -3. -2. -1.  0.  1.  2.  3.  4.]]\n",
      "y_1 = \n",
      "[[-5. -5. -5. -5. -5. -5. -5. -5. -5.]\n",
      " [-4. -4. -4. -4. -4. -4. -4. -4. -4.]\n",
      " [-3. -3. -3. -3. -3. -3. -3. -3. -3.]\n",
      " [-2. -2. -2. -2. -2. -2. -2. -2. -2.]\n",
      " [-1. -1. -1. -1. -1. -1. -1. -1. -1.]\n",
      " [ 0.  0.  0.  0.  0.  0.  0.  0.  0.]\n",
      " [ 1.  1.  1.  1.  1.  1.  1.  1.  1.]\n",
      " [ 2.  2.  2.  2.  2.  2.  2.  2.  2.]\n",
      " [ 3.  3.  3.  3.  3.  3.  3.  3.  3.]\n",
      " [ 4.  4.  4.  4.  4.  4.  4.  4.  4.]\n",
      " [ 5.  5.  5.  5.  5.  5.  5.  5.  5.]]\n"
     ]
    }
   ],
   "source": [
    "import numpy as np \n",
    " \n",
    "x = np.linspace(-4, 4, 9) \n",
    "  \n",
    "y = np.linspace(-5, 5, 11) \n",
    "  \n",
    "x_1, y_1 = np.meshgrid(x, y) \n",
    "  \n",
    "print(\"x_1 = \") \n",
    "print(x_1) \n",
    "print(\"y_1 = \") \n",
    "print(y_1)"
   ]
  },
  {
   "cell_type": "raw",
   "metadata": {},
   "source": [
    "(19)\n",
    "Function:\tswapaxes()\n",
    "Description :\tWith the help of matrix.swapaxes() method, we are able to swap the axes a matrix by using the same method.\n",
    "Syntax:\tmatrix.swapaxes()\n",
    "Return:\tReturn matrix having interchanged axes"
   ]
  },
  {
   "cell_type": "code",
   "execution_count": 30,
   "metadata": {},
   "outputs": [
    {
     "name": "stdout",
     "output_type": "stream",
     "text": [
      "[[ 4 12]\n",
      " [ 1  3]]\n"
     ]
    }
   ],
   "source": [
    "import numpy as np           \n",
    "a = np.matrix('[4, 1; 12, 3]')             \n",
    "b = a.swapaxes(0, 1) \n",
    "print(b)"
   ]
  },
  {
   "cell_type": "raw",
   "metadata": {},
   "source": [
    "(20)\n",
    "Function:\tcolumn_stack()\n",
    "Description :\tStack 1-D arrays as columns into a 2-D array.\n",
    "Take a sequence of 1-D arrays and stack them as columns to make a single 2-D array. 2-D arrays are stacked as-is, just like with hstack. 1-D arrays are turned into 2-D columns first.\n",
    "Syntax:\tcolumn_stack((x,y))\n",
    "Return:\tRows converted into columns"
   ]
  },
  {
   "cell_type": "code",
   "execution_count": 31,
   "metadata": {},
   "outputs": [
    {
     "data": {
      "text/plain": [
       "array([[3, 4],\n",
       "       [4, 5],\n",
       "       [5, 6]])"
      ]
     },
     "execution_count": 31,
     "metadata": {},
     "output_type": "execute_result"
    }
   ],
   "source": [
    "import numpy as np\n",
    "x = np.array((3,4,5))\n",
    "y = np.array((4,5,6))\n",
    "np.column_stack((x,y))"
   ]
  },
  {
   "cell_type": "code",
   "execution_count": null,
   "metadata": {},
   "outputs": [],
   "source": []
  }
 ],
 "metadata": {
  "kernelspec": {
   "display_name": "Python 3",
   "language": "python",
   "name": "python3"
  },
  "language_info": {
   "codemirror_mode": {
    "name": "ipython",
    "version": 3
   },
   "file_extension": ".py",
   "mimetype": "text/x-python",
   "name": "python",
   "nbconvert_exporter": "python",
   "pygments_lexer": "ipython3",
   "version": "3.7.6"
  }
 },
 "nbformat": 4,
 "nbformat_minor": 4
}
