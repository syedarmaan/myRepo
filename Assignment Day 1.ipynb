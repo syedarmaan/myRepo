{
 "cells": [
  {
   "cell_type": "markdown",
   "metadata": {},
   "source": [
    "# Answer 1:"
   ]
  },
  {
   "cell_type": "code",
   "execution_count": null,
   "metadata": {},
   "outputs": [],
   "source": [
    "B. RAINBOW"
   ]
  },
  {
   "cell_type": "markdown",
   "metadata": {},
   "source": [
    "# Answer 2:"
   ]
  },
  {
   "cell_type": "code",
   "execution_count": 3,
   "metadata": {},
   "outputs": [
    {
     "name": "stdout",
     "output_type": "stream",
     "text": [
      "LETS UPGRADE\n"
     ]
    }
   ],
   "source": [
    "print(\"LETS UPGRADE\")"
   ]
  },
  {
   "cell_type": "markdown",
   "metadata": {},
   "source": [
    "# Answer 3:"
   ]
  },
  {
   "cell_type": "code",
   "execution_count": 4,
   "metadata": {},
   "outputs": [
    {
     "name": "stdout",
     "output_type": "stream",
     "text": [
      "Cost Price: 50\n",
      "Salling Price: 75\n",
      "Profit\n"
     ]
    }
   ],
   "source": [
    "CP = float(input(\"Cost Price: \"))\n",
    "SP = float(input(\"Salling Price: \"))\n",
    "if(SP > CP):\n",
    "    print(\"Profit\")\n",
    "\n",
    "elif(CP > SP):\n",
    "    print(\"Loss\")\n",
    "\n",
    "else:\n",
    "    print(\"Neither\")"
   ]
  },
  {
   "cell_type": "markdown",
   "metadata": {},
   "source": [
    "# Answer 4:"
   ]
  },
  {
   "cell_type": "code",
   "execution_count": 5,
   "metadata": {},
   "outputs": [
    {
     "name": "stdout",
     "output_type": "stream",
     "text": [
      "Cost Price: 20\n",
      "Salling Price: 10\n",
      "Loss\n"
     ]
    }
   ],
   "source": [
    "CP = float(input(\"Cost Price: \"))\n",
    "SP = float(input(\"Salling Price: \"))\n",
    "if(SP > CP):\n",
    "    print(\"Profit\")\n",
    "\n",
    "elif(CP > SP):\n",
    "    print(\"Loss\")\n",
    "\n",
    "else:\n",
    "    print(\"Neither\")"
   ]
  },
  {
   "cell_type": "markdown",
   "metadata": {},
   "source": [
    "# Answer 5:"
   ]
  },
  {
   "cell_type": "code",
   "execution_count": 6,
   "metadata": {},
   "outputs": [
    {
     "name": "stdout",
     "output_type": "stream",
     "text": [
      "Enter Indian Rupees:20\n",
      "1600 Euros\n"
     ]
    }
   ],
   "source": [
    "INR = int(input(\"Enter Indian Rupees:\"))\n",
    "Euro = INR*80\n",
    "print(Euro, \"Euros\")\n"
   ]
  }
 ],
 "metadata": {
  "kernelspec": {
   "display_name": "Python 3",
   "language": "python",
   "name": "python3"
  },
  "language_info": {
   "codemirror_mode": {
    "name": "ipython",
    "version": 3
   },
   "file_extension": ".py",
   "mimetype": "text/x-python",
   "name": "python",
   "nbconvert_exporter": "python",
   "pygments_lexer": "ipython3",
   "version": "3.7.6"
  }
 },
 "nbformat": 4,
 "nbformat_minor": 4
}
