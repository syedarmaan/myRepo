{
 "cells": [
  {
   "cell_type": "markdown",
   "metadata": {},
   "source": [
    "# Answer 1:"
   ]
  },
  {
   "cell_type": "code",
   "execution_count": 3,
   "metadata": {},
   "outputs": [
    {
     "name": "stdout",
     "output_type": "stream",
     "text": [
      "1.0.1\n"
     ]
    }
   ],
   "source": [
    "import pandas as pd\n",
    "print (pd.__version__)"
   ]
  },
  {
   "cell_type": "markdown",
   "metadata": {},
   "source": [
    "# Answer 2:"
   ]
  },
  {
   "cell_type": "code",
   "execution_count": 4,
   "metadata": {},
   "outputs": [
    {
     "name": "stdout",
     "output_type": "stream",
     "text": [
      "0    a\n",
      "1    b\n",
      "2    c\n",
      "3    d\n",
      "4    e\n",
      "dtype: object\n"
     ]
    }
   ],
   "source": [
    "# importing Pandas & numpy \n",
    "import pandas as pd \n",
    "import numpy as np \n",
    "  \n",
    "# numpy array \n",
    "data = np.array(['a', 'b', 'c', 'd', 'e']) \n",
    "  \n",
    "# creating series \n",
    "s = pd.Series(data) \n",
    "print(s) "
   ]
  },
  {
   "cell_type": "markdown",
   "metadata": {},
   "source": [
    "# Answer 3:"
   ]
  },
  {
   "cell_type": "code",
   "execution_count": 6,
   "metadata": {},
   "outputs": [
    {
     "data": {
      "text/html": [
       "<div>\n",
       "<style scoped>\n",
       "    .dataframe tbody tr th:only-of-type {\n",
       "        vertical-align: middle;\n",
       "    }\n",
       "\n",
       "    .dataframe tbody tr th {\n",
       "        vertical-align: top;\n",
       "    }\n",
       "\n",
       "    .dataframe thead th {\n",
       "        text-align: right;\n",
       "    }\n",
       "</style>\n",
       "<table border=\"1\" class=\"dataframe\">\n",
       "  <thead>\n",
       "    <tr style=\"text-align: right;\">\n",
       "      <th></th>\n",
       "      <th>Roll Number</th>\n",
       "      <th>Name</th>\n",
       "      <th>Marks In Percentage</th>\n",
       "      <th>Grade</th>\n",
       "      <th>Subject</th>\n",
       "      <th>index</th>\n",
       "    </tr>\n",
       "  </thead>\n",
       "  <tbody>\n",
       "    <tr>\n",
       "      <th>0</th>\n",
       "      <td>19CSE30</td>\n",
       "      <td>Syed</td>\n",
       "      <td>98</td>\n",
       "      <td>A+</td>\n",
       "      <td>Maths</td>\n",
       "      <td>0</td>\n",
       "    </tr>\n",
       "    <tr>\n",
       "      <th>1</th>\n",
       "      <td>19ECE40</td>\n",
       "      <td>Armaan</td>\n",
       "      <td>78</td>\n",
       "      <td>B</td>\n",
       "      <td>Maths</td>\n",
       "      <td>1</td>\n",
       "    </tr>\n",
       "    <tr>\n",
       "      <th>2</th>\n",
       "      <td>19EEE50</td>\n",
       "      <td>Namrita</td>\n",
       "      <td>90</td>\n",
       "      <td>A</td>\n",
       "      <td>Maths</td>\n",
       "      <td>2</td>\n",
       "    </tr>\n",
       "    <tr>\n",
       "      <th>3</th>\n",
       "      <td>19CSE35</td>\n",
       "      <td>Firdous</td>\n",
       "      <td>61</td>\n",
       "      <td>C</td>\n",
       "      <td>Maths</td>\n",
       "      <td>3</td>\n",
       "    </tr>\n",
       "    <tr>\n",
       "      <th>4</th>\n",
       "      <td>19EEE52</td>\n",
       "      <td>John</td>\n",
       "      <td>79</td>\n",
       "      <td>B</td>\n",
       "      <td>Maths</td>\n",
       "      <td>4</td>\n",
       "    </tr>\n",
       "  </tbody>\n",
       "</table>\n",
       "</div>"
      ],
      "text/plain": [
       "  Roll Number     Name  Marks In Percentage Grade Subject  index\n",
       "0     19CSE30     Syed                   98    A+   Maths      0\n",
       "1     19ECE40   Armaan                   78     B   Maths      1\n",
       "2     19EEE50  Namrita                   90     A   Maths      2\n",
       "3     19CSE35  Firdous                   61     C   Maths      3\n",
       "4     19EEE52     John                   79     B   Maths      4"
      ]
     },
     "execution_count": 6,
     "metadata": {},
     "output_type": "execute_result"
    }
   ],
   "source": [
    " # importing the pandas library as pd  \n",
    "import pandas as pd \n",
    "  \n",
    "# Creating the dataframe df \n",
    "df = pd.DataFrame({'Roll Number': ['19CSE30', '19ECE40', '19EEE50', '19CSE35', '19EEE52'], \n",
    "                   'Name': ['Syed', 'Armaan', 'Namrita', 'Firdous', 'John'], \n",
    "                   'Marks In Percentage': [98, 78, 90, 61, 79], \n",
    "                   'Grade': ['A+', 'B', 'A', 'C', 'B'], \n",
    "                   'Subject': ['Maths', 'Maths', 'Maths', 'Maths', 'Maths']}) \n",
    "  \n",
    "# Printing the dataframe \n",
    "df['index'] = df.index \n",
    "df"
   ]
  }
 ],
 "metadata": {
  "kernelspec": {
   "display_name": "Python 3",
   "language": "python",
   "name": "python3"
  },
  "language_info": {
   "codemirror_mode": {
    "name": "ipython",
    "version": 3
   },
   "file_extension": ".py",
   "mimetype": "text/x-python",
   "name": "python",
   "nbconvert_exporter": "python",
   "pygments_lexer": "ipython3",
   "version": "3.7.6"
  }
 },
 "nbformat": 4,
 "nbformat_minor": 4
}
