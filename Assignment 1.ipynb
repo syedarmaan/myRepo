{
 "cells": [
  {
   "cell_type": "markdown",
   "metadata": {},
   "source": [
    "# Assignment 1"
   ]
  },
  {
   "cell_type": "raw",
   "metadata": {},
   "source": [
    "Questions 1\n",
    "\n",
    "Find the value of the following questions, Where x=5\n",
    "\n",
    "● (2x+5/x^2+5x+6)\n",
    "● (x^2+5x+6/2x+5)\n",
    "● (2x-3)(x-9)"
   ]
  },
  {
   "cell_type": "code",
   "execution_count": 6,
   "metadata": {},
   "outputs": [
    {
     "name": "stdout",
     "output_type": "stream",
     "text": [
      "0.26785714285714285\n",
      "3.7333333333333334\n",
      "-28\n",
      "98\n"
     ]
    }
   ],
   "source": [
    "x=5\n",
    "\n",
    "a=(2*x+5)/(x**2+5*x+6)\n",
    "b=(x**2+5*x+6)/(2*x+5)\n",
    "c=(2*x-3)*(x-9)\n",
    "d=(2*x-3)*(x+9)\n",
    "\n",
    "print(a)\n",
    "print(b)\n",
    "print(c)\n",
    "print(d)"
   ]
  },
  {
   "cell_type": "code",
   "execution_count": null,
   "metadata": {},
   "outputs": [],
   "source": []
  }
 ],
 "metadata": {
  "kernelspec": {
   "display_name": "Python 3",
   "language": "python",
   "name": "python3"
  },
  "language_info": {
   "codemirror_mode": {
    "name": "ipython",
    "version": 3
   },
   "file_extension": ".py",
   "mimetype": "text/x-python",
   "name": "python",
   "nbconvert_exporter": "python",
   "pygments_lexer": "ipython3",
   "version": "3.7.6"
  }
 },
 "nbformat": 4,
 "nbformat_minor": 4
}
