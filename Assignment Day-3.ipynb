{
 "cells": [
  {
   "cell_type": "markdown",
   "metadata": {},
   "source": [
    "# Answer 1:"
   ]
  },
  {
   "cell_type": "code",
   "execution_count": 8,
   "metadata": {},
   "outputs": [
    {
     "name": "stdout",
     "output_type": "stream",
     "text": [
      "Array of all the integers from 2 to 50 with a stepsize of 3\n",
      "[ 2  5  8 11 14 17 20 23 26 29 32 35 38 41 44 47]\n"
     ]
    }
   ],
   "source": [
    "import numpy as np\n",
    "arr=np.arange(2,50,3)\n",
    "print(\"Array of all the integers from 2 to 50 with a stepsize of 3\")\n",
    "print(arr) "
   ]
  },
  {
   "cell_type": "markdown",
   "metadata": {},
   "source": [
    "# Answer 2:"
   ]
  },
  {
   "cell_type": "code",
   "execution_count": 34,
   "metadata": {},
   "outputs": [
    {
     "name": "stdout",
     "output_type": "stream",
     "text": [
      "[ 4  2  5  3  1  9  8  6 10  7]\n",
      "[ 1  2  3  4  5  6  7  8  9 10]\n"
     ]
    }
   ],
   "source": [
    "import numpy as np\n",
    " \n",
    "# initilizing lists\n",
    "list1 = [4, 2, 5, 3, 1]\n",
    "list2 = [9, 8, 6, 10, 7]\n",
    " \n",
    "# converting lists into arrays\n",
    "arr1 = np.array(list1)\n",
    "arr2 = np.array(list2)\n",
    " \n",
    "#Concatenation of arrays\n",
    "arr_c = np.concatenate((arr1, arr2))\n",
    "print(arr_c)\n",
    "\n",
    "#Sorting of arrays\n",
    "print(np.sort(arr_c))\n",
    "\n",
    " "
   ]
  },
  {
   "cell_type": "markdown",
   "metadata": {},
   "source": [
    "# Answer 3:"
   ]
  },
  {
   "cell_type": "code",
   "execution_count": null,
   "metadata": {},
   "outputs": [],
   "source": [
    "'''To get the number of dimensions, shape (size of each dimension) and size (number of all elements) of NumPy array, \n",
    "use attributes ndim, shape, and size of numpy.ndarray. The built-in function len() returns the size of the first dimension.\n",
    "\n",
    "Number of dimensions of numpy.ndarray: ndim\n",
    "Shape of numpy.ndarray: shape\n",
    "Size of numpy.ndarray (total number of elements): size\n",
    "Size of the first dimension of numpy.ndarray: len()'''"
   ]
  },
  {
   "cell_type": "code",
   "execution_count": 46,
   "metadata": {},
   "outputs": [
    {
     "name": "stdout",
     "output_type": "stream",
     "text": [
      "2\n",
      "2\n"
     ]
    }
   ],
   "source": [
    "import numpy as np\n",
    "arr_x=np.array([[2, 3, 4, 5],[1, 0, 4, 7]])\n",
    "\n",
    "dim_x = arr_x.ndim \n",
    "print (dim_x) \n",
    "\n",
    "length_x = len(arr_x)\n",
    "print(length_x)"
   ]
  },
  {
   "cell_type": "markdown",
   "metadata": {},
   "source": [
    "# Answer 4:"
   ]
  },
  {
   "cell_type": "code",
   "execution_count": 47,
   "metadata": {},
   "outputs": [
    {
     "name": "stdout",
     "output_type": "stream",
     "text": [
      "2D Numpy array:\n",
      "[[0 2 4 6 8]\n",
      " [1 3 5 7 9]]\n"
     ]
    }
   ],
   "source": [
    "import numpy as np\n",
    "arr_1d = np.array([0, 1, 2, 3, 4, 5, 6, 7, 8, 9])\n",
    "arr_2d = np.reshape(arr_1d, (2, 5), order='F')\n",
    "print('2D Numpy array:')\n",
    "print(arr_2d)"
   ]
  },
  {
   "cell_type": "markdown",
   "metadata": {},
   "source": [
    "# Answer 5:"
   ]
  },
  {
   "cell_type": "code",
   "execution_count": 12,
   "metadata": {},
   "outputs": [
    {
     "name": "stdout",
     "output_type": "stream",
     "text": [
      "Vertical stacking:\n",
      " [[  1   4   9  16  25]\n",
      " [ 36  49  64  81 100]]\n",
      "\n",
      "Horizontal stacking:\n",
      " [  1   4   9  16  25  36  49  64  81 100]\n"
     ]
    }
   ],
   "source": [
    "import numpy as np\n",
    "\n",
    "a=np.square([1,2,3,4,5])\n",
    "b=np.square([6,7,8,9,10])\n",
    "\n",
    "# vertical stacking \n",
    "print(\"Vertical stacking:\\n\", np.vstack((a, b))) \n",
    "  \n",
    "# horizontal stacking \n",
    "print(\"\\nHorizontal stacking:\\n\", np.hstack((a, b))) \n",
    " "
   ]
  }
 ],
 "metadata": {
  "kernelspec": {
   "display_name": "Python 3",
   "language": "python",
   "name": "python3"
  },
  "language_info": {
   "codemirror_mode": {
    "name": "ipython",
    "version": 3
   },
   "file_extension": ".py",
   "mimetype": "text/x-python",
   "name": "python",
   "nbconvert_exporter": "python",
   "pygments_lexer": "ipython3",
   "version": "3.7.6"
  }
 },
 "nbformat": 4,
 "nbformat_minor": 4
}
