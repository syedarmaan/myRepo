{
 "cells": [
  {
   "cell_type": "markdown",
   "metadata": {},
   "source": [
    "# Cryptography app in python"
   ]
  },
  {
   "cell_type": "raw",
   "metadata": {},
   "source": [
    "Project 1\n",
    "Do the project - Develop a cryptography app in python."
   ]
  },
  {
   "cell_type": "code",
   "execution_count": 34,
   "metadata": {},
   "outputs": [
    {
     "name": "stdout",
     "output_type": "stream",
     "text": [
      "Collecting onetimepad\n",
      "  Downloading onetimepad-1.4.tar.gz (3.3 kB)\n",
      "Building wheels for collected packages: onetimepad\n",
      "  Building wheel for onetimepad (setup.py): started\n",
      "  Building wheel for onetimepad (setup.py): finished with status 'done'\n",
      "  Created wheel for onetimepad: filename=onetimepad-1.4-py3-none-any.whl size=3905 sha256=c2c37bf392b1aa5f5626b25503f68e1227c82d150a60d768d19a64b469f09f9c\n",
      "  Stored in directory: c:\\users\\acer\\appdata\\local\\pip\\cache\\wheels\\1b\\ae\\14\\ffcbab73ebe9e669acc6741ad0876263896a5f12c63eeb7eb0\n",
      "Successfully built onetimepad\n",
      "Installing collected packages: onetimepad\n",
      "Successfully installed onetimepad-1.4\n"
     ]
    }
   ],
   "source": [
    "!pip install onetimepad"
   ]
  },
  {
   "cell_type": "code",
   "execution_count": 36,
   "metadata": {},
   "outputs": [
    {
     "name": "stdout",
     "output_type": "stream",
     "text": [
      "Working 240018191f\n",
      "Working Hello\n"
     ]
    }
   ],
   "source": [
    "import onetimepad\n",
    "from tkinter import *\n",
    "\n",
    "root = Tk()\n",
    "root.title(\"Chryptography App\")\n",
    "\n",
    "def encryptMessage():\n",
    "    a = var.get()\n",
    "    #Ritesh\n",
    "    ct = onetimepad.encrypt(a,\"letupgrade\")\n",
    "    print(\"Working\",ct) \n",
    "    \n",
    "    e2.delete(0,END)\n",
    "    e2.insert(END,ct)\n",
    "\n",
    "def dycrptMessage():\n",
    "    a = var2.get()\n",
    "    #Ritesh\n",
    "    ct = onetimepad.decrypt(a,\"letupgrade\")\n",
    "    print(\"Working\",ct) \n",
    "    \n",
    "    e4.delete(0,END)\n",
    "    e4.insert(END,ct)\n",
    "       \n",
    "l1 = Label(root,text=\"Plain Text\")\n",
    "l1.grid(row=0,column=0)\n",
    "\n",
    "\n",
    "l3 = Label(root,text=\"Encypted Text\")\n",
    "l3.grid(row=0,column=2)\n",
    "\n",
    "var= StringVar()\n",
    "e1 = Entry(root,textvariable=var)\n",
    "e1.grid(row=0,column=1)\n",
    "\n",
    "var2= StringVar()\n",
    "e3 = Entry(root,textvariable=var2)\n",
    "e3.grid(row=0,column=3)\n",
    "\n",
    "\n",
    "\n",
    "l2 = Label(root,text=\"Encypted Text\")\n",
    "l2.grid(row=1,column=0)\n",
    "\n",
    "l4 = Label(root,text=\"Plain Text\")\n",
    "l4.grid(row=1,column=2)\n",
    "\n",
    "\n",
    "e2 = Entry(root)\n",
    "e2.grid(row=1,column=1)\n",
    "\n",
    "e4 = Entry(root)\n",
    "e4.grid(row=1,column=3)\n",
    "\n",
    "b1 = Button(root,text=\"Encyption\",bg=\"blue\",fg=\"Red\",command=encryptMessage)\n",
    "b1.grid(row=2,column=1)\n",
    "\n",
    "b2 = Button(root,text=\"Dycrption\",bg=\"blue\",fg=\"Red\",command=dycrptMessage)\n",
    "b2.grid(row=2,column=3)\n",
    "\n",
    "root.mainloop()"
   ]
  },
  {
   "cell_type": "code",
   "execution_count": null,
   "metadata": {},
   "outputs": [],
   "source": []
  }
 ],
 "metadata": {
  "kernelspec": {
   "display_name": "Python 3",
   "language": "python",
   "name": "python3"
  },
  "language_info": {
   "codemirror_mode": {
    "name": "ipython",
    "version": 3
   },
   "file_extension": ".py",
   "mimetype": "text/x-python",
   "name": "python",
   "nbconvert_exporter": "python",
   "pygments_lexer": "ipython3",
   "version": "3.7.6"
  }
 },
 "nbformat": 4,
 "nbformat_minor": 4
}
